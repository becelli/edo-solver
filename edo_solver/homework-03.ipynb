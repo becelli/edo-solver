{
 "cells": [
  {
   "cell_type": "code",
   "execution_count": null,
   "metadata": {},
   "outputs": [],
   "source": [
    "from typing import Callable, List\n",
    "import numpy as np\n",
    "from tabulate import tabulate\n",
    "import matplotlib.pyplot as plt\n",
    "import pandas as pd\n",
    "from dataclasses import dataclass\n",
    "\n",
    "plt.style.use(\"ggplot\")"
   ]
  },
  {
   "cell_type": "code",
   "execution_count": null,
   "metadata": {},
   "outputs": [],
   "source": [
    "def forward_diff(f: Callable, x: float, h: float) -> float:\n",
    "    return (f(x + h) - f(x)) / h\n",
    "\n",
    "\n",
    "def backward_diff(f: Callable, x: float, h: float) -> float:\n",
    "    return (f(x) - f(x - h)) / h\n",
    "\n",
    "\n",
    "def central_diff(f: Callable, x: float, h: float) -> float:\n",
    "    return (f(x + h) - f(x - h)) / (2 * h)\n",
    "\n",
    "\n",
    "def absolute_error(f: Callable, analytical_f: Callable, x: float) -> float:\n",
    "    return abs(f(x) - analytical_f(x))\n",
    "\n",
    "\n",
    "def relative_error(f: Callable, analytical_f: Callable, x: float) -> float:\n",
    "    analytical = analytical_f(x)\n",
    "    if analytical == 0:\n",
    "        return 0\n",
    "    return abs((f(x) - analytical) / analytical)"
   ]
  },
  {
   "cell_type": "code",
   "execution_count": null,
   "metadata": {},
   "outputs": [],
   "source": [
    "@dataclass\n",
    "class Method:\n",
    "    name: str\n",
    "    results: list\n",
    "    relative_errors: list\n",
    "    absolute_errors: list\n",
    "    f: Callable"
   ]
  },
  {
   "cell_type": "code",
   "execution_count": null,
   "metadata": {},
   "outputs": [],
   "source": [
    "\n",
    "def plot_approximation_and_errors(methods: List[Method], x_values: List[float]):\n",
    "    h = x_values[1] - x_values[0]\n",
    "    # Two subplots, the axes array is 1-d\n",
    "    f, axarr = plt.subplots(3, sharex=True, figsize=(8, 12))\n",
    "    for method in methods:\n",
    "        axarr[0].plot(x_values, method.results, label=method.name, marker=\"o\")\n",
    "        axarr[1].plot(x_values, method.absolute_errors, label=method.name, marker=\"o\")\n",
    "        axarr[2].plot(x_values, method.relative_errors, label=method.name, marker=\"o\")\n",
    "    axarr[0].set_ylabel(\"f(x)\")\n",
    "    axarr[1].set_ylabel(\"Erros Absolutos\")\n",
    "    axarr[2].set_ylabel(\"Erros Relativos\")\n",
    "    axarr[2].set_xlabel(\"x\")\n",
    "    axarr[0].set_title(f\"Comparação das aproximações e erros para h = {np.round(h, 12)}\")\n",
    "    axarr[0].legend()\n",
    "    axarr[1].legend()\n",
    "    axarr[2].legend()\n",
    "    axarr[0].grid(True)\n",
    "    axarr[1].grid(True)\n",
    "    axarr[2].grid(True)\n",
    "    plt.show()"
   ]
  },
  {
   "cell_type": "code",
   "execution_count": null,
   "metadata": {},
   "outputs": [],
   "source": [
    "def run_approximations(\n",
    "    f: Callable, f_prime: Callable, a: float, b: float, h_values: float\n",
    ") -> List[pd.DataFrame]:\n",
    "    x_values = np.arange(a, b + h, h)\n",
    "    analytical = Method(\"Sol. Analítica\", [], [], [], f_prime)\n",
    "    forward = Method(\"Avançada\", [], [], [], lambda x: forward_diff(f, x, h))\n",
    "    backward = Method(\"Atrasada\", [], [], [], lambda x: backward_diff(f, x, h))\n",
    "    central = Method(\"Central\", [], [], [], lambda x: central_diff(f, x, h))\n",
    "    methods = [forward, backward, central, analytical]\n",
    "\n",
    "    for method in methods:\n",
    "        for x in x_values:\n",
    "            method.results.append(method.f(x))\n",
    "            method.absolute_errors.append(absolute_error(method.f, analytical.f, x))\n",
    "            method.relative_errors.append(relative_error(method.f, analytical.f, x))\n",
    "\n",
    "    plot_approximation_and_errors(methods, x_values)\n",
    "\n",
    "    dataframes = []\n",
    "    for method in methods:\n",
    "        df = pd.DataFrame(\n",
    "            {\n",
    "                \"f(x)\": method.results,\n",
    "                f\"{method.name}\": method.results,\n",
    "                \"Erro Absoluto\": method.absolute_errors,\n",
    "                \"Erro Relativo\": method.relative_errors,\n",
    "            },\n",
    "            index=x_values,\n",
    "        )\n",
    "        dataframes.append(df)\n",
    "\n",
    "    return dataframes"
   ]
  },
  {
   "cell_type": "markdown",
   "metadata": {},
   "source": [
    "# Tarefa 3\n",
    "\n",
    "Dadas as funções abaixo utilize as três fórmulas de diferenças (avançada, atrasada e centrada) para aproximar as suas derivadas, considerando diferentes espaçamentos (valores de $h$). Plote um gráfico comparando a solução exata com as soluções aproximadas e, ainda, calcule o erro local e o erro relativo para cada aproximação."
   ]
  },
  {
   "cell_type": "markdown",
   "metadata": {},
   "source": [
    "### Problema A"
   ]
  },
  {
   "cell_type": "code",
   "execution_count": null,
   "metadata": {},
   "outputs": [],
   "source": [
    "f = lambda x: np.sin(np.exp(2 * x))\n",
    "f_prime = lambda x: 2 * np.exp(2 * x) * np.cos(np.exp(2 * x))\n",
    "a, b = 0, 1\n",
    "\n",
    "for h in [1 / 2 ** i for i in range(4, 6)]:\n",
    "  run_approximations(f, f_prime, a, b, h)"
   ]
  },
  {
   "cell_type": "markdown",
   "metadata": {},
   "source": [
    "### Problema B"
   ]
  },
  {
   "cell_type": "code",
   "execution_count": null,
   "metadata": {},
   "outputs": [],
   "source": [
    "f = lambda x: np.sin(x) / np.log(x)\n",
    "f_prime = lambda x: (np.cos(x) * np.log(x) - np.sin(x) / x) / (np.log(x) ** 2)\n",
    "a, b = 6, 7\n",
    "\n",
    "for h in [1 / 2 ** i for i in range(2, 5)]:\n",
    "  run_approximations(f, f_prime, a, b, h)"
   ]
  },
  {
   "cell_type": "markdown",
   "metadata": {},
   "source": [
    "### Problema C"
   ]
  },
  {
   "cell_type": "code",
   "execution_count": null,
   "metadata": {},
   "outputs": [],
   "source": [
    "f = lambda x: np.log(x) * np.sin(x)\n",
    "f_prime = lambda x: np.sin(x) / x + np.log(x) * np.cos(x)\n",
    "a, b = 0.5, 1.5\n",
    "\n",
    "for h in [1 / 2 ** i for i in range(2, 5)]:\n",
    "  run_approximations(f, f_prime, a, b, h)"
   ]
  },
  {
   "cell_type": "markdown",
   "metadata": {},
   "source": [
    "### Problema D"
   ]
  },
  {
   "cell_type": "code",
   "execution_count": null,
   "metadata": {},
   "outputs": [],
   "source": [
    "f = lambda x: np.exp(np.sin(x))\n",
    "f_prime = lambda x: np.exp(np.sin(x)) * np.cos(x)\n",
    "a, b = 0.5, 1.5\n",
    "\n",
    "for h in [1 / 2 ** i for i in range(2, 5)]:\n",
    "  run_approximations(f, f_prime, a, b, h)"
   ]
  },
  {
   "cell_type": "markdown",
   "metadata": {},
   "source": [
    "### Problema Proposto"
   ]
  },
  {
   "cell_type": "code",
   "execution_count": null,
   "metadata": {},
   "outputs": [],
   "source": [
    "f = lambda x: np.sin((x**2 + 1) / np.log(x**2 + 1)) * np.exp(x * np.log(x))\n",
    "f_prime = lambda x: (2*x/np.log(x**2 + 1) - 2*x/np.log(x**2 + 1)**2) * np.exp(x*np.log(x)) * np.cos((x**2 + 1)/np.log(x**2 + 1)) + (np.log(x) + 1) * np.exp(x*np.log(x)) * np.sin((x**2 + 1)/np.log(x**2 + 1))\n",
    "\n",
    "a, b = 0.5, 2 \n",
    "\n",
    "for h in [1 / 2 ** i for i in range(3, 6)]:\n",
    "  run_approximations(f, f_prime, a, b, h)"
   ]
  }
 ],
 "metadata": {
  "kernelspec": {
   "display_name": ".venv",
   "language": "python",
   "name": "python3"
  },
  "language_info": {
   "codemirror_mode": {
    "name": "ipython",
    "version": 3
   },
   "file_extension": ".py",
   "mimetype": "text/x-python",
   "name": "python",
   "nbconvert_exporter": "python",
   "pygments_lexer": "ipython3",
   "version": "3.11.3"
  },
  "orig_nbformat": 4
 },
 "nbformat": 4,
 "nbformat_minor": 2
}
