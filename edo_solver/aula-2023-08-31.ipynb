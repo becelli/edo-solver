{
 "cells": [
  {
   "cell_type": "code",
   "execution_count": null,
   "metadata": {},
   "outputs": [],
   "source": [
    "from typing import Callable, List\n",
    "import numpy as np\n",
    "from tabulate import tabulate\n",
    "import matplotlib.pyplot as plt\n",
    "import pandas as pd\n",
    "from dataclasses import dataclass\n",
    "\n",
    "plt.style.use(\"ggplot\")"
   ]
  },
  {
   "cell_type": "code",
   "execution_count": null,
   "metadata": {},
   "outputs": [],
   "source": [
    "@dataclass\n",
    "class Method:\n",
    "    name: str\n",
    "    results: list\n",
    "    relative_errors: list\n",
    "    absolute_errors: list\n",
    "    f: Callable"
   ]
  },
  {
   "cell_type": "code",
   "execution_count": null,
   "metadata": {},
   "outputs": [],
   "source": [
    "def explicit_euler(f_prime: Callable, x: np.ndarray, y0: float) -> np.ndarray:\n",
    "    y = np.zeros(x.shape)\n",
    "    y[0] = y0\n",
    "    for i in range(len(x) - 1):\n",
    "        h = x[i + 1] - x[i]\n",
    "        y[i + 1] = y[i] + f_prime(x[i], y[i]) * h\n",
    "\n",
    "    return y"
   ]
  },
  {
   "cell_type": "markdown",
   "metadata": {},
   "source": [
    "### Problema Proposto"
   ]
  },
  {
   "cell_type": "code",
   "execution_count": null,
   "metadata": {},
   "outputs": [],
   "source": [
    "f = lambda x, y: x - y\n",
    "analytical_f = lambda x: x - 1 + 2 * np.exp(-x)\n",
    "a, b = 0, 1\n",
    "y0 = 1\n",
    "\n",
    "def implicit_euler(f_prime: Callable, x: np.ndarray, y0: float) -> np.ndarray:\n",
    "    y = np.zeros(x.shape)\n",
    "    y[0] = y0\n",
    "    for i in range(len(x) - 1):\n",
    "        h = x[i + 1] - x[i]\n",
    "        y[i + 1] = (y[i] + f_prime(x[i + 1], y[i + 1]) * h) / (1 + h)\n",
    "\n",
    "    return y\n",
    "\n",
    "def central_difference(f_prime: Callable, x: np.ndarray, y0: float) -> np.ndarray:\n",
    "    y = np.zeros(x.shape)\n",
    "    y[0] = y0\n",
    "    y[1] = 0.9096748\n",
    "    for i in range(1, len(x) - 1):\n",
    "        h = x[i + 1] - x[i]\n",
    "        y[i + 1] = 2 * h * (x[i] - y[i]) + y[i-1]\n",
    "\n",
    "    return y\n",
    "\n",
    "\n",
    "for h in [0.1]:\n",
    "    n = int((b - a) / h)\n",
    "    x = np.linspace(a, b, n + 1)\n",
    "    y = explicit_euler(f, x, y0)\n",
    "    plt.plot(x, y, label=f\"Euler Explicito h = {h}\", linestyle=\"--\")\n",
    "    y = implicit_euler(f, x, y0)\n",
    "    plt.plot(x, y, label=f\"Euler Implicito h = {h}\", linestyle=\":\")\n",
    "    y = central_difference(f, x, y0)\n",
    "    plt.plot(x, y, label=f\"Diferenças Centrais h = {h}\", linestyle=\"-.\")\n",
    "\n",
    "plt.plot(x, analytical_f(x), label=\"Analytical\", color=\"black\", linewidth=2)\n",
    "plt.legend()\n",
    "plt.show()"
   ]
  },
  {
   "cell_type": "code",
   "execution_count": null,
   "metadata": {},
   "outputs": [],
   "source": [
    "f = lambda x, y: - 2 * x * y\n",
    "analytical_f = lambda x: np.exp(-x ** 2)\n",
    "a, b = -2.5, 2.5\n",
    "y0 = np.exp(-6.25)\n",
    "\n",
    "def implicit_euler(f_prime: Callable, x: np.ndarray, y0: float) -> np.ndarray:\n",
    "    y = np.zeros(x.shape)\n",
    "    y[0] = y0\n",
    "    for i in range(len(x) - 1):\n",
    "        h = x[i + 1] - x[i]\n",
    "        y[i + 1] = y[i] / (1 + 2 * h * x[i + 1])\n",
    "\n",
    "    return y\n",
    "\n",
    "def central_difference(f_prime: Callable, x: np.ndarray, y0: float) -> np.ndarray:\n",
    "    y = np.zeros(x.shape)\n",
    "    y[0] = y0\n",
    "    y[1] = explicit_euler(f, x, y0)[1]\n",
    "    for i in range(1, len(x) - 1):\n",
    "        h = x[i + 1] - x[i]\n",
    "        y[i + 1] = y[i - 1] - 4 * h * x[i] * y[i]\n",
    "\n",
    "    return y\n",
    "\n",
    "\n",
    "for h in [0.1]:\n",
    "    n = int((b - a) / h)\n",
    "    x = np.linspace(a, b, n + 1)\n",
    "    y = explicit_euler(f, x, y0)\n",
    "    plt.plot(x, y, label=f\"Euler Explicito h = {h}\", linestyle=\"--\")\n",
    "    y = implicit_euler(f, x, y0)\n",
    "    plt.plot(x, y, label=f\"Euler Implicito h = {h}\", linestyle=\":\")\n",
    "    y = central_difference(f, x, y0)\n",
    "    plt.plot(x, y, label=f\"Diferenças Centrais h = {h}\", linestyle=\"-.\")\n",
    "\n",
    "plt.plot(x, analytical_f(x), label=\"Analytical\", color=\"black\", linewidth=2)\n",
    "plt.legend()\n",
    "plt.show()"
   ]
  }
 ],
 "metadata": {
  "kernelspec": {
   "display_name": ".venv",
   "language": "python",
   "name": "python3"
  },
  "language_info": {
   "codemirror_mode": {
    "name": "ipython",
    "version": 3
   },
   "file_extension": ".py",
   "mimetype": "text/x-python",
   "name": "python",
   "nbconvert_exporter": "python",
   "pygments_lexer": "ipython3",
   "version": "3.11.3"
  },
  "orig_nbformat": 4
 },
 "nbformat": 4,
 "nbformat_minor": 2
}
