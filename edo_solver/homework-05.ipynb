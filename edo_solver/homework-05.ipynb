{
 "cells": [
  {
   "cell_type": "code",
   "execution_count": null,
   "metadata": {},
   "outputs": [],
   "source": [
    "from typing import Callable\n",
    "\n",
    "import matplotlib.pyplot as plt\n",
    "import numpy as np\n",
    "\n",
    "plt.style.use(\"ggplot\")"
   ]
  },
  {
   "cell_type": "code",
   "execution_count": null,
   "metadata": {},
   "outputs": [],
   "source": [
    "def explicit_euler(f_prime: Callable, x: np.ndarray, y0: float) -> np.ndarray:\n",
    "    y = np.zeros(x.shape)\n",
    "    y[0] = y0\n",
    "    for i in range(len(x) - 1):\n",
    "        h = x[i + 1] - x[i]\n",
    "        y[i + 1] = y[i] + f_prime(x[i], y[i]) * h\n",
    "\n",
    "    return y\n",
    "\n",
    "\n",
    "def local_error(analytical: np.ndarray, numerical: np.ndarray) -> np.ndarray:\n",
    "    return np.abs(analytical - numerical)\n",
    "\n",
    "\n",
    "def global_error(analytical: np.ndarray, numerical: np.ndarray) -> np.ndarray:\n",
    "    return np.abs(analytical - numerical) / analytical"
   ]
  },
  {
   "cell_type": "markdown",
   "metadata": {},
   "source": [
    "### Exercício A\n"
   ]
  },
  {
   "cell_type": "code",
   "execution_count": null,
   "metadata": {},
   "outputs": [],
   "source": [
    "def taylor_second_order(f_prime: Callable, dfdx: Callable, dfdy: Callable, x: np.ndarray, y0: float) -> np.ndarray:\n",
    "    y = np.zeros(x.shape)\n",
    "    y[0] = y0\n",
    "    for i in range(len(x) - 1):\n",
    "        h = x[i + 1] - x[i]\n",
    "        y[i + 1] = y[i] + h * f_prime(x[i], y[i]) + 0.5 * h**2 * (dfdx(x[i], y[i]) + dfdy(x[i], y[i]) * f_prime(x[i], y[i]))\n",
    "    return y\n",
    "\n",
    "f_prime = lambda x, y: x - y + 2\n",
    "dfdx = lambda x, y: 1\n",
    "dfdy = lambda x, y: -1\n",
    "analytical_f = lambda x: np.exp(-x) + x + 1\n",
    "\n",
    "a, b = 0, 1\n",
    "y0 = 2\n",
    "\n",
    "local_errors = {}\n",
    "\n",
    "for h in [(0.5 ** i) for i in range(1, 6)]:\n",
    "    n = int((b - a) / h)\n",
    "    x = np.linspace(a, b, n + 1)\n",
    "    y = explicit_euler(f_prime, x, y0)\n",
    "\n",
    "    plt.plot(x, y, label=f\"Euler Explícito h = {h}\", linestyle=\"solid\")\n",
    "    local_errors.update({f\"Euler Explícito h = {h}\": local_error(analytical_f(x), y)})\n",
    "\n",
    "    y = taylor_second_order(f_prime, dfdx, dfdy, x, y0)\n",
    "    plt.plot(x, y, label=f\"Taylor 2ª ordem h = {h}\", linestyle=\"dashdot\")\n",
    "    local_errors.update({f\"Taylor 2ª ordem h = {h}\": local_error(analytical_f(x), y)})\n",
    "\n",
    "    \n",
    "plt.plot(x, analytical_f(x), label=\"Analítica\", color=\"black\", linewidth=2, linestyle=\"dashed\")\n",
    "plt.legend()\n",
    "plt.title(\"Comparação entre métodos numéricos e analítico\")\n",
    "plt.show()\n",
    "\n",
    "\n",
    "for method, errors in local_errors.items():\n",
    "    x = np.linspace(a, b, len(errors))\n",
    "    plt.plot(x, errors, label=method)\n",
    "\n",
    "plt.legend()\n",
    "plt.title(\"Erro local\")\n",
    "plt.show()\n"
   ]
  },
  {
   "cell_type": "markdown",
   "metadata": {},
   "source": [
    "## Exercício 2"
   ]
  },
  {
   "cell_type": "code",
   "execution_count": null,
   "metadata": {},
   "outputs": [],
   "source": [
    "def taylor_second_order(f_prime: Callable, dfdx: Callable, dfdy: Callable, x: np.ndarray, y0: float) -> np.ndarray:\n",
    "    y = np.zeros(x.shape)\n",
    "    y[0] = y0\n",
    "    for i in range(len(x) - 1):\n",
    "        h = x[i + 1] - x[i]\n",
    "        y[i + 1] = y[i] + h * f_prime(x[i], y[i]) + 0.5 * h**2 * (dfdx(x[i], y[i]) + dfdy(x[i], y[i]) * f_prime(x[i], y[i]))\n",
    "    return y\n",
    "\n",
    "f_prime = lambda x, y: 5 * y - 1\n",
    "dfdx = lambda x, y: 0\n",
    "dfdy = lambda x, y: 5\n",
    "analytical_f = lambda x: np.exp(5 * x) + 0.2\n",
    "\n",
    "a, b = 0, 2\n",
    "y0 = 1.2\n",
    "\n",
    "local_errors = {}\n",
    "\n",
    "for h in [0.1]:\n",
    "    n = int((b - a) / h)\n",
    "    x = np.linspace(a, b, n + 1)\n",
    "    y = explicit_euler(f_prime, x, y0)\n",
    "\n",
    "    plt.plot(x, y, label=f\"Euler Explícito (Taylor 1ª ordem) h = {h}\", linestyle=\"solid\")\n",
    "    local_errors.update({f\"Euler Explícito (Taylor 1ª ordem) h = {h}\": local_error(analytical_f(x), y)})\n",
    "\n",
    "    y = taylor_second_order(f_prime, dfdx, dfdy, x, y0)\n",
    "    plt.plot(x, y, label=f\"Taylor 2ª ordem h = {h}\", linestyle=\"dashdot\")\n",
    "    local_errors.update({f\"Taylor 2ª ordem h = {h}\": local_error(analytical_f(x), y)})\n",
    "\n",
    "    \n",
    "plt.plot(x, analytical_f(x), label=\"Analítica\", color=\"black\", linewidth=2, linestyle=\"dashed\")\n",
    "plt.legend()\n",
    "plt.title(\"Comparação entre métodos numéricos e analítico\")\n",
    "plt.show()\n",
    "\n",
    "\n",
    "for method, errors in local_errors.items():\n",
    "    x = np.linspace(a, b, len(errors))\n",
    "    plt.plot(x, errors, label=method)\n",
    "\n",
    "plt.legend()\n",
    "plt.title(\"Erro local\")\n",
    "plt.show()\n"
   ]
  }
 ],
 "metadata": {
  "kernelspec": {
   "display_name": ".venv",
   "language": "python",
   "name": "python3"
  },
  "language_info": {
   "codemirror_mode": {
    "name": "ipython",
    "version": 3
   },
   "file_extension": ".py",
   "mimetype": "text/x-python",
   "name": "python",
   "nbconvert_exporter": "python",
   "pygments_lexer": "ipython3",
   "version": "3.11.5"
  },
  "orig_nbformat": 4
 },
 "nbformat": 4,
 "nbformat_minor": 2
}
