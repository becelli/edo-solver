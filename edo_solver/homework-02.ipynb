{
 "cells": [
  {
   "cell_type": "code",
   "execution_count": null,
   "metadata": {},
   "outputs": [],
   "source": [
    "from typing import Callable, List\n",
    "import numpy as np\n",
    "import matplotlib.pyplot as plt\n",
    "import pandas as pd\n",
    "from dataclasses import dataclass\n",
    "\n",
    "plt.style.use(\"ggplot\")"
   ]
  },
  {
   "cell_type": "code",
   "execution_count": null,
   "metadata": {},
   "outputs": [],
   "source": [
    "def forward_diff(f: Callable, x: float, h: float) -> float:\n",
    "    return (f(x + h) - f(x)) / h\n",
    "\n",
    "\n",
    "def backward_diff(f: Callable, x: float, h: float) -> float:\n",
    "    return (f(x) - f(x - h)) / h\n",
    "\n",
    "\n",
    "def central_diff(f: Callable, x: float, h: float) -> float:\n",
    "    return (f(x + h) - f(x - h)) / (2 * h)\n",
    "\n",
    "\n",
    "def absolute_error(f: Callable, analytical_f: Callable, x: float) -> float:\n",
    "    return abs(f(x) - analytical_f(x))\n",
    "\n",
    "\n",
    "def relative_error(f: Callable, analytical_f: Callable, x: float) -> float:\n",
    "    analytical = analytical_f(x)\n",
    "    if analytical == 0:\n",
    "        return 0\n",
    "    return abs((f(x) - analytical) / analytical)"
   ]
  },
  {
   "cell_type": "code",
   "execution_count": null,
   "metadata": {},
   "outputs": [],
   "source": [
    "@dataclass\n",
    "class Method:\n",
    "    name: str\n",
    "    results: list\n",
    "    relative_errors: list\n",
    "    absolute_errors: list\n",
    "    f: Callable\n",
    "    marker: str"
   ]
  },
  {
   "cell_type": "code",
   "execution_count": null,
   "metadata": {},
   "outputs": [],
   "source": [
    "# Plotting the results\n",
    "def plot_results(methods: List[Method], x_values: List[float]):\n",
    "    plt.figure(figsize=(12, 6))\n",
    "    for method in methods:\n",
    "        plt.plot(x_values, method.results, label=method.name, marker=\"o\")\n",
    "    plt.xlabel(\"x\")\n",
    "    plt.ylabel(\"f(x)\")\n",
    "    plt.title(\"Comparação das aproximações de f'(x)\")\n",
    "    plt.legend()\n",
    "    plt.grid(True)\n",
    "    plt.show()\n",
    "\n",
    "\n",
    "def plot_absolute_errors(methods: List[Method], x_values: List[float]):\n",
    "    plt.figure(figsize=(12, 6))\n",
    "    for method in methods:\n",
    "        plt.plot(x_values, method.absolute_errors, label=method.name, marker=\"o\")\n",
    "    plt.xlabel(\"x\")\n",
    "    plt.ylabel(\"Erros Absolutos\")\n",
    "    plt.title(\"Comparação dos erros absolutos\")\n",
    "    plt.legend()\n",
    "    plt.grid(True)\n",
    "    plt.show()\n",
    "\n",
    "\n",
    "# Plotting the relative errors\n",
    "def plot_relative_errors(methods: List[Method], x_values: List[float]):\n",
    "    plt.figure(figsize=(12, 6))\n",
    "    for method in methods:\n",
    "        plt.plot(x_values, method.relative_errors, label=method.name, marker=\"o\")\n",
    "    plt.xlabel(\"x\")\n",
    "    plt.ylabel(\"Erros Relativos\")\n",
    "    plt.title(\"Comparação dos erros relativos\")\n",
    "    plt.legend()\n",
    "    plt.grid(True)\n",
    "    plt.show()"
   ]
  },
  {
   "cell_type": "code",
   "execution_count": null,
   "metadata": {},
   "outputs": [],
   "source": [
    "def run_approximations(f: Callable, f_prime: Callable, a: float, b: float, h: float):\n",
    "    x_values = np.arange(a, b + h, h)\n",
    "    analytical = Method(\"Sol. Analítica\", [], [], [], f_prime, \"-o\")\n",
    "    forward = Method(\"Avançada\", [], [], [], lambda x: forward_diff(f, x, h), \"o\")\n",
    "    backward = Method(\"Atrasada\", [], [], [], lambda x: backward_diff(f, x, h), \"o\")\n",
    "    central = Method(\"Central\", [], [], [], lambda x: central_diff(f, x, h), \"o\")\n",
    "    methods = [forward, backward, central, analytical]\n",
    "\n",
    "    for method in methods:\n",
    "        for x in x_values:\n",
    "            method.results.append(method.f(x))\n",
    "            method.absolute_errors.append(absolute_error(method.f, analytical.f, x))\n",
    "            method.relative_errors.append(relative_error(method.f, analytical.f, x))\n",
    "            \n",
    "\n",
    "    plot_results(methods, x_values)\n",
    "    plot_absolute_errors(methods, x_values)\n",
    "    plot_relative_errors(methods, x_values)"
   ]
  },
  {
   "cell_type": "markdown",
   "metadata": {},
   "source": [
    "Seja $f(x) = e^x \\times \\cosec(x)$ definida no intervalo $[0.2, 1.5]$. Como $f^{\\prime}(x) = e^x \\times \\cosec(x)− e^x \\times \\cosec(x) \\times \\cotg(x) $, encontre as diferenças avançada, atrasada, centrada e seus respectivos erros relativos para h = 0.1.\n"
   ]
  },
  {
   "cell_type": "code",
   "execution_count": null,
   "metadata": {},
   "outputs": [],
   "source": [
    "cosec = lambda x: 1 / np.sin(x)\n",
    "ctg = lambda x: 1 / np.tan(x)\n",
    "\n",
    "# Problema 1\n",
    "f = lambda x: np.exp(x) * cosec(x)\n",
    "# f_prime = lambda x: np.exp(x) * cosec(x) - np.exp(x) * cosec(x) * ctg(x)\n",
    "f_prime = lambda x: np.exp(x) * cosec(x) * (1 - ctg(x))\n",
    "a, b = 0.2, 1.5\n",
    "h = 0.1\n",
    "\n",
    "run_approximations(f, f_prime, a, b, h)"
   ]
  },
  {
   "cell_type": "markdown",
   "metadata": {},
   "source": [
    "Seja $f(x) = \\ln(x) \\times \\tan(x)$ definida no intervalo $[0.5, 1.2]$. Como $f^{\\prime}(x) = \\dfrac{\\tan(x)}{x} + \\ln(x) \\times \\sec^2(x)$, encontre as diferenças avançada, atrasada, centrada e seus respectivos erros relativos para h = 0.1."
   ]
  },
  {
   "cell_type": "code",
   "execution_count": null,
   "metadata": {},
   "outputs": [],
   "source": [
    "sec = lambda x: 1 / np.cos(x)\n",
    "\n",
    "# Problema 2\n",
    "f = lambda x: np.log(x) * np.tan(x)\n",
    "f_prime = lambda x: np.log(x) * sec(x) ** 2 + np.tan(x) / x\n",
    "a, b = 0.5, 1.2\n",
    "h = 0.1\n",
    "\n",
    "run_approximations(f, f_prime, a, b, h)"
   ]
  }
 ],
 "metadata": {
  "kernelspec": {
   "display_name": ".venv",
   "language": "python",
   "name": "python3"
  },
  "language_info": {
   "codemirror_mode": {
    "name": "ipython",
    "version": 3
   },
   "file_extension": ".py",
   "mimetype": "text/x-python",
   "name": "python",
   "nbconvert_exporter": "python",
   "pygments_lexer": "ipython3",
   "version": "3.11.3"
  },
  "orig_nbformat": 4
 },
 "nbformat": 4,
 "nbformat_minor": 2
}
